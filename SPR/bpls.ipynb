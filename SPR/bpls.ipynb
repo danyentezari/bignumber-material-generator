{
 "cells": [
  {
   "cell_type": "code",
   "execution_count": 83,
   "metadata": {},
   "outputs": [
    {
     "data": {
      "text/plain": [
       "{'file': 'Assessment-1',\n",
       " 'title': 'Assessment 1',\n",
       " 'duration': '2m',\n",
       " 'quiz': 'true',\n",
       " 'url': 'spr/Assessment-1',\n",
       " 'details': {'organization': [{'questionTitle': 'Q1',\n",
       "    'details': {'options': [{'type': 'radio',\n",
       "       'choices': [{'text': '4'}, {'text': '3'}, {'text': '0'}]}],\n",
       "     'answerKey': '4',\n",
       "     'hint': \"Don't be silly\",\n",
       "     'question': 'What is the sum of 2+2?'}},\n",
       "   {'questionTitle': 'Q2',\n",
       "    'details': {'options': [{'type': 'text', 'text': ''}],\n",
       "     'answerKey': 'Dany',\n",
       "     'hint': \"C'mon now!\",\n",
       "     'body': '-',\n",
       "     'question': 'Enter your name'}}]}}"
      ]
     },
     "execution_count": 83,
     "metadata": {},
     "output_type": "execute_result"
    }
   ],
   "source": [
    "# Example with loading a JSON file\n",
    "import json\n",
    "\n",
    "def load(path):\n",
    "    # Open the JSON file\n",
    "    with open(path, 'r') as file:\n",
    "        # Load the JSON data\n",
    "        jsonObj = json.load(file)\n",
    "        return jsonObj\n",
    "load('Assessment-1.json')"
   ]
  },
  {
   "cell_type": "code",
   "execution_count": 84,
   "metadata": {},
   "outputs": [
    {
     "name": "stdout",
     "output_type": "stream",
     "text": [
      "{'fileName': 'Module-3', 'section': 'Module 3', 'children': [{'file': 's2-10-2.mov', 'url': 'https://player.vimeo.com/video/778922769?h=0fe25ca32c', 'title': 'Getting Started with R', 'duration': '02:48'}, {'file': 's2-10-3.mov', 'url': 'https://player.vimeo.com/video/778923045?h=8b0c3cec9b', 'title': 'Quantiles: Quartile Decile and Percentile', 'duration': '04:05'}, {'file': 's2-10-4.mov', 'url': 'https://player.vimeo.com/video/781753336?h=ed032c64d1', 'title': 'Plotting Data', 'duration': '03:22'}, {'file': 's2-10-5.mov', 'url': 'https://player.vimeo.com/video/781753143?h=943e4a8fa2', 'title': 'Comparing Two Distributions', 'duration': '03:05'}, {'file': 's2-12.mov', 'url': 'https://player.vimeo.com/video/777847574?h=7b78849a21', 'title': 'Formula for the Moment Generating Function', 'duration': '11:49'}, {'file': 's3-6-2.mov', 'url': 'https://player.vimeo.com/video/781759737?h=200c099273', 'title': 'Regression to The Mean', 'duration': '03:15'}, {'file': 's3-8-1.mov', 'url': 'https://player.vimeo.com/video/781755173?h=a7cd83ad95', 'title': 'Multiple Linear Regression', 'duration': '08:38'}, {'file': 's3-8-2.mov', 'url': 'https://player.vimeo.com/video/781755691?h=eb04328b21', 'title': 'Fitting the Model', 'duration': '02:07'}, {'file': 'example-1-hypothesis-test.R', 'title': 'example-1-hypothesis-test.R', 'url': 'bignumber-material/SPR/mod2/example-1-hypothesis-test.R', 'code': 'true'}, {'file': 'ols-assumptions-visual.ipynb', 'url': 'bignumber-material/SPR/mod3/ols-assumptions-visual.ipynb', 'title': 'ols-assumptions-visual.ipynb', 'code': 'true', 'notebook': 'true'}, {'file': 'exercise-5.ipynb', 'url': 'bignumber-material/SPR/mod3/exercise-5.ipynb', 'title': 'exercise-5.ipynb', 'code': 'true', 'notebook': 'true'}, {'file': 'Assessment-1', 'title': 'Assessment 1', 'duration': '2m', 'url': 'spr/Assessment-1', 'details': {'file': 'Assessment-1', 'title': 'Assessment 1', 'duration': '2m', 'quiz': 'true', 'url': 'spr/Assessment-1', 'details': {'organization': [{'questionTitle': 'Q1', 'details': {'options': [{'type': 'radio', 'choices': [{'text': '4'}, {'text': '3'}, {'text': '0'}]}], 'answerKey': '4', 'hint': \"Don't be silly\", 'question': 'What is the sum of 2+2?'}}, {'questionTitle': 'Q2', 'details': {'options': [{'type': 'text', 'text': ''}], 'answerKey': 'Dany', 'hint': \"C'mon now!\", 'body': '-', 'question': 'Enter your name'}}]}}}]}\n"
     ]
    }
   ],
   "source": [
    "sectionObj = dict(\n",
    "    {\n",
    "        \"fileName\": \"\",\n",
    "        \"section\": \"\",\n",
    "        \"children\": []\n",
    "    }\n",
    ")\n",
    "\n",
    "template_preprocess = -1\n",
    "with open('Module-3.bpls', 'r') as file:\n",
    "        for line in file:\n",
    "            line = line.strip()\n",
    "                \n",
    "            # Section setup\n",
    "            if line == '--- template_end ---':\n",
    "                template_preprocess = 0\n",
    "                \n",
    "            if template_preprocess == 1:\n",
    "                key, value = line.split(\"::\")\n",
    "                # pair = [key.strip(), value.strip()]\n",
    "                key = key.strip()\n",
    "                value = value.strip()\n",
    "                \n",
    "                if type(sectionObj[key]) == str:\n",
    "                    sectionObj[key] = value    \n",
    "                \n",
    "            if line == '--- template_start ---':\n",
    "                template_preprocess = 1\n",
    "                \n",
    "                \n",
    "            # Playlist processing\n",
    "            # Start processing file, url, title...\n",
    "            if template_preprocess == 0:\n",
    "                if line != \"--- template_end ---\":\n",
    "                    detail = line.split(\"::\")\n",
    "                    \n",
    "            \n",
    "                    if len(detail) > 1:                        \n",
    "                        k = detail[0].strip()\n",
    "                        v = detail[1].strip()\n",
    "                    \n",
    "                        if k == \"file\":\n",
    "                            child = dict({})\n",
    "                            append_next = 1\n",
    "                        \n",
    "                        if k == \"details\":\n",
    "                            child[k] = eval(v)\n",
    "                        else:\n",
    "                            child[k] = v\n",
    "                        \n",
    "                        if append_next == 1:\n",
    "                            append_next = 0\n",
    "                            sectionObj['children'].append(child)\n",
    "                \n",
    "print(sectionObj)"
   ]
  },
  {
   "cell_type": "code",
   "execution_count": 85,
   "metadata": {},
   "outputs": [
    {
     "name": "stdout",
     "output_type": "stream",
     "text": [
      "{\"fileName\": \"Module-3\", \"section\": \"Module 3\", \"children\": [{\"file\": \"s2-10-2.mov\", \"url\": \"https://player.vimeo.com/video/778922769?h=0fe25ca32c\", \"title\": \"Getting Started with R\", \"duration\": \"02:48\"}, {\"file\": \"s2-10-3.mov\", \"url\": \"https://player.vimeo.com/video/778923045?h=8b0c3cec9b\", \"title\": \"Quantiles: Quartile Decile and Percentile\", \"duration\": \"04:05\"}, {\"file\": \"s2-10-4.mov\", \"url\": \"https://player.vimeo.com/video/781753336?h=ed032c64d1\", \"title\": \"Plotting Data\", \"duration\": \"03:22\"}, {\"file\": \"s2-10-5.mov\", \"url\": \"https://player.vimeo.com/video/781753143?h=943e4a8fa2\", \"title\": \"Comparing Two Distributions\", \"duration\": \"03:05\"}, {\"file\": \"s2-12.mov\", \"url\": \"https://player.vimeo.com/video/777847574?h=7b78849a21\", \"title\": \"Formula for the Moment Generating Function\", \"duration\": \"11:49\"}, {\"file\": \"s3-6-2.mov\", \"url\": \"https://player.vimeo.com/video/781759737?h=200c099273\", \"title\": \"Regression to The Mean\", \"duration\": \"03:15\"}, {\"file\": \"s3-8-1.mov\", \"url\": \"https://player.vimeo.com/video/781755173?h=a7cd83ad95\", \"title\": \"Multiple Linear Regression\", \"duration\": \"08:38\"}, {\"file\": \"s3-8-2.mov\", \"url\": \"https://player.vimeo.com/video/781755691?h=eb04328b21\", \"title\": \"Fitting the Model\", \"duration\": \"02:07\"}, {\"file\": \"example-1-hypothesis-test.R\", \"title\": \"example-1-hypothesis-test.R\", \"url\": \"bignumber-material/SPR/mod2/example-1-hypothesis-test.R\", \"code\": \"true\"}, {\"file\": \"ols-assumptions-visual.ipynb\", \"url\": \"bignumber-material/SPR/mod3/ols-assumptions-visual.ipynb\", \"title\": \"ols-assumptions-visual.ipynb\", \"code\": \"true\", \"notebook\": \"true\"}, {\"file\": \"exercise-5.ipynb\", \"url\": \"bignumber-material/SPR/mod3/exercise-5.ipynb\", \"title\": \"exercise-5.ipynb\", \"code\": \"true\", \"notebook\": \"true\"}, {\"file\": \"Assessment-1\", \"title\": \"Assessment 1\", \"duration\": \"2m\", \"url\": \"spr/Assessment-1\", \"details\": {\"file\": \"Assessment-1\", \"title\": \"Assessment 1\", \"duration\": \"2m\", \"quiz\": \"true\", \"url\": \"spr/Assessment-1\", \"details\": {\"organization\": [{\"questionTitle\": \"Q1\", \"details\": {\"options\": [{\"type\": \"radio\", \"choices\": [{\"text\": \"4\"}, {\"text\": \"3\"}, {\"text\": \"0\"}]}], \"answerKey\": \"4\", \"hint\": \"Don't be silly\", \"question\": \"What is the sum of 2+2?\"}}, {\"questionTitle\": \"Q2\", \"details\": {\"options\": [{\"type\": \"text\", \"text\": \"\"}], \"answerKey\": \"Dany\", \"hint\": \"C'mon now!\", \"body\": \"-\", \"question\": \"Enter your name\"}}]}}}]}\n",
      "Saved file\n"
     ]
    }
   ],
   "source": [
    "import json\n",
    "json_data = json.dumps(sectionObj)\n",
    "print(json_data)\n",
    "\n",
    "with open(f'./{sectionObj[\"fileName\"]}.json', 'w') as file:\n",
    "    # Write JSON data to the file\n",
    "    json.dump(sectionObj, file)\n",
    "    print('Saved file')"
   ]
  }
 ],
 "metadata": {
  "kernelspec": {
   "display_name": "Python 3",
   "language": "python",
   "name": "python3"
  },
  "language_info": {
   "codemirror_mode": {
    "name": "ipython",
    "version": 3
   },
   "file_extension": ".py",
   "mimetype": "text/x-python",
   "name": "python",
   "nbconvert_exporter": "python",
   "pygments_lexer": "ipython3",
   "version": "3.9.4"
  },
  "orig_nbformat": 4
 },
 "nbformat": 4,
 "nbformat_minor": 2
}
