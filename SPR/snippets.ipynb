{
 "cells": [
  {
   "cell_type": "code",
   "execution_count": null,
   "metadata": {},
   "outputs": [],
   "source": [
    "# Example with loading a JSON file\n",
    "import json\n",
    "\n",
    "# Open the JSON file\n",
    "with open('data.json', 'r') as file:\n",
    "    # Load the JSON data\n",
    "    data = json.load(file)\n",
    "\n",
    "# Access the data\n",
    "print(data)\n"
   ]
  },
  {
   "cell_type": "code",
   "execution_count": 1,
   "metadata": {},
   "outputs": [
    {
     "name": "stdout",
     "output_type": "stream",
     "text": [
      "{\"name\": \"John Doe\", \"age\": 30, \"city\": \"New York\", \"occupation\": \"Engineer\", \"hobbies\": [\"programming\", \"reading\"]}\n"
     ]
    }
   ],
   "source": [
    "# Example with merging JSON objects\n",
    "\n",
    "import json\n",
    "\n",
    "# JSON object 1\n",
    "json_obj1 = '''\n",
    "{\n",
    "  \"name\": \"John Doe\",\n",
    "  \"age\": 30,\n",
    "  \"city\": \"New York\"\n",
    "}\n",
    "'''\n",
    "\n",
    "# JSON object 2\n",
    "json_obj2 = '''\n",
    "{\n",
    "  \"occupation\": \"Engineer\",\n",
    "  \"hobbies\": [\"programming\", \"reading\"]\n",
    "}\n",
    "'''\n",
    "\n",
    "# Parse the JSON objects\n",
    "data1 = json.loads(json_obj1)\n",
    "data2 = json.loads(json_obj2)\n",
    "\n",
    "# Combine the JSON objects\n",
    "data1.update(data2)\n",
    "\n",
    "# Convert the combined data back to JSON\n",
    "combined_json = json.dumps(data1)\n",
    "\n",
    "# Print the combined JSON\n",
    "print(combined_json)\n"
   ]
  },
  {
   "cell_type": "code",
   "execution_count": 2,
   "metadata": {},
   "outputs": [
    {
     "name": "stdout",
     "output_type": "stream",
     "text": [
      "[{\"name\": \"John Doe\", \"age\": 30, \"city\": \"New York\"}, {\"occupation\": \"Engineer\", \"hobbies\": [\"programming\", \"reading\"]}]\n"
     ]
    }
   ],
   "source": [
    "# Example with pushing into JSON array\n",
    "\n",
    "import json\n",
    "\n",
    "# JSON object 1\n",
    "json_obj1 = '''\n",
    "{\n",
    "  \"name\": \"John Doe\",\n",
    "  \"age\": 30,\n",
    "  \"city\": \"New York\"\n",
    "}\n",
    "'''\n",
    "\n",
    "# JSON object 2\n",
    "json_obj2 = '''\n",
    "{\n",
    "  \"occupation\": \"Engineer\",\n",
    "  \"hobbies\": [\"programming\", \"reading\"]\n",
    "}\n",
    "'''\n",
    "\n",
    "# Parse the JSON objects\n",
    "data1 = json.loads(json_obj1)\n",
    "data2 = json.loads(json_obj2)\n",
    "\n",
    "# Create a list and add the JSON objects\n",
    "json_array = [data1, data2]\n",
    "\n",
    "# Convert the JSON array to a JSON string\n",
    "json_data = json.dumps(json_array)\n",
    "\n",
    "# Print the JSON array\n",
    "print(json_data)\n"
   ]
  }
 ],
 "metadata": {
  "kernelspec": {
   "display_name": "Python 3",
   "language": "python",
   "name": "python3"
  },
  "language_info": {
   "codemirror_mode": {
    "name": "ipython",
    "version": 3
   },
   "file_extension": ".py",
   "mimetype": "text/x-python",
   "name": "python",
   "nbconvert_exporter": "python",
   "pygments_lexer": "ipython3",
   "version": "3.9.4"
  },
  "orig_nbformat": 4
 },
 "nbformat": 4,
 "nbformat_minor": 2
}
