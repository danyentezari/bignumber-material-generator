{
 "cells": [
  {
   "cell_type": "code",
   "execution_count": 1,
   "metadata": {},
   "outputs": [],
   "source": [
    "assessment = dict({\n",
    "    \"file\": \"\",\n",
    "    \"title\": \"\",\n",
    "    \"duration\": \"\",\n",
    "    \"quiz\": \"\",\n",
    "    \"url\": \"\",\n",
    "    \"details\": dict({\n",
    "        \"organization\": []\n",
    "    })  \n",
    "})"
   ]
  },
  {
   "cell_type": "code",
   "execution_count": 2,
   "metadata": {},
   "outputs": [
    {
     "data": {
      "text/plain": [
       "{'file': '',\n",
       " 'title': '',\n",
       " 'duration': '',\n",
       " 'quiz': '',\n",
       " 'url': '',\n",
       " 'details': {'organization': []}}"
      ]
     },
     "execution_count": 2,
     "metadata": {},
     "output_type": "execute_result"
    }
   ],
   "source": [
    "assessment"
   ]
  },
  {
   "cell_type": "code",
   "execution_count": 3,
   "metadata": {},
   "outputs": [
    {
     "name": "stdout",
     "output_type": "stream",
     "text": [
      "\n",
      "\n",
      "radio\n",
      "\n",
      "\n",
      "text\n",
      "{'file': 'Assessment-1', 'title': 'Assessment 1', 'duration': '2m', 'quiz': 'true', 'url': 'spr/Assessment-1', 'details': {'organization': [{'questionTitle': 'Q1', 'details': {'options': [{'type': 'radio', 'choices': [{'text': '4'}, {'text': '3'}, {'text': '0'}]}], 'answerKey': '4', 'hint': \"Don't be silly\", 'question': 'What is the sum of 2+2?'}}, {'questionTitle': 'Q2', 'details': {'options': [{'type': 'text', 'text': ''}], 'answerKey': 'Dany', 'hint': \"C'mon now!\", 'body': '-', 'question': 'Enter your name'}}]}}\n"
     ]
    }
   ],
   "source": [
    "l = dict(\n",
    "    {\n",
    "        \"qt\": \"questionTitle\",\n",
    "        \"t\": \"type\",\n",
    "        \"q\": \"question\",\n",
    "        \"o\": \"options\",\n",
    "        \"a\": \"answerKey\",\n",
    "        \"h\": \"hint\",\n",
    "        \"c\": \"choice\",\n",
    "        \"b\": \"body\"\n",
    "    }\n",
    ")\n",
    "\n",
    "template_preprocess = -1\n",
    "# Open the file in read mode\n",
    "with open('Assessment-1.ba', 'r') as file:\n",
    "    # Read each line and print it if it's not empty\n",
    "    for line in file:\n",
    "        line = line.strip()\n",
    "        if line:\n",
    "            \n",
    "            # Assessment setup\n",
    "            if line == '--- template_end ---':\n",
    "                template_preprocess = 0\n",
    "                \n",
    "            if template_preprocess == 1:\n",
    "                # print(line)\n",
    "                key, value = line.split(\"::\")\n",
    "                # pair = [key.strip(), value.strip()]\n",
    "                key = key.strip()\n",
    "                value = value.strip()\n",
    "                \n",
    "                if type(assessment[key]) == str:\n",
    "                    assessment[key] = value\n",
    "                    \n",
    "            if line == '--- template_start ---':\n",
    "                template_preprocess = 1\n",
    "        \n",
    "            \n",
    "            # Assessment organization\n",
    "            # Start processing questions, answers, hints after template_end..\n",
    "            if template_preprocess == 0:\n",
    "                if line != \"--- template_end ---\":\n",
    "                    detail = line.split('::')\n",
    "                        \n",
    "                    if len(detail) > 1:\n",
    "                                                \n",
    "                        k = detail[0].strip()\n",
    "                        v = detail[1].strip()\n",
    "                        \n",
    "                        if l[k] == \"questionTitle\":\n",
    "                            question_type = \"\"\n",
    "                            new_question = dict({\n",
    "                                \"questionTitle\": \"\",\n",
    "                                \"details\": dict({\n",
    "                                    \"options\": [],\n",
    "                                    \"answerKey\": \"\",\n",
    "                                    \"hint\": \"\"\n",
    "                                })\n",
    "                            })\n",
    "                            print('\\n')\n",
    "                            append_next = 1\n",
    "                        \n",
    "                        # l[] is for the lookup\n",
    "                        if l[k] == \"questionTitle\" :\n",
    "                            new_question[l[k]] = v\n",
    "                        \n",
    "                        elif l[k] == \"type\":\n",
    "                            question_type = v\n",
    "                            print(v)\n",
    "                            \n",
    "                            # Setup options for the question\n",
    "                            if len(new_question['details']['options']) == 0:\n",
    "                                new_question['details']['options'] = []\n",
    "                            \n",
    "                            # If simple text input, append options straightaway\n",
    "                            if question_type == \"text\":\n",
    "                                new_question['details']['options'].append(\n",
    "                                    dict({\n",
    "                                        \"type\": question_type,\n",
    "                                        \"text\": \"\"\n",
    "                                    }))\n",
    "                        \n",
    "                        elif l[k] == \"options\":\n",
    "                            if question_type == \"radio\":\n",
    "                                new_question['details']['options'].append(\n",
    "                                    dict({\n",
    "                                        \"type\": question_type,\n",
    "                                        \"choices\": []\n",
    "                                    }))\n",
    "                                                                  \n",
    "                            \n",
    "                        elif l[k] == \"choice\":\n",
    "                            new_question['details']['options'][0]['choices'].append(\n",
    "                                {\"text\": v}\n",
    "                            )\n",
    "                        \n",
    "                        else: \n",
    "                            new_question['details'][l[k]] = v\n",
    "                        \n",
    "                        if append_next == 1:\n",
    "                            append_next = 0\n",
    "                            assessment['details']['organization'].append(new_question)\n",
    "                        \n",
    "print(assessment)\n"
   ]
  },
  {
   "cell_type": "code",
   "execution_count": 4,
   "metadata": {},
   "outputs": [
    {
     "name": "stdout",
     "output_type": "stream",
     "text": [
      "{\"file\": \"Assessment-1\", \"title\": \"Assessment 1\", \"duration\": \"2m\", \"quiz\": \"true\", \"url\": \"spr/Assessment-1\", \"details\": {\"organization\": [{\"questionTitle\": \"Q1\", \"details\": {\"options\": [{\"type\": \"radio\", \"choices\": [{\"text\": \"4\"}, {\"text\": \"3\"}, {\"text\": \"0\"}]}], \"answerKey\": \"4\", \"hint\": \"Don't be silly\", \"question\": \"What is the sum of 2+2?\"}}, {\"questionTitle\": \"Q2\", \"details\": {\"options\": [{\"type\": \"text\", \"text\": \"\"}], \"answerKey\": \"Dany\", \"hint\": \"C'mon now!\", \"body\": \"-\", \"question\": \"Enter your name\"}}]}}\n",
      "Saved file\n"
     ]
    }
   ],
   "source": [
    "import json\n",
    "json_data = json.dumps(assessment)\n",
    "print(json_data)\n",
    "\n",
    "with open(f'./{assessment[\"file\"]}.json', 'w') as file:\n",
    "    # Write JSON data to the file\n",
    "    json.dump(assessment, file)\n",
    "    print('Saved file')"
   ]
  }
 ],
 "metadata": {
  "kernelspec": {
   "display_name": "Python 3",
   "language": "python",
   "name": "python3"
  },
  "language_info": {
   "codemirror_mode": {
    "name": "ipython",
    "version": 3
   },
   "file_extension": ".py",
   "mimetype": "text/x-python",
   "name": "python",
   "nbconvert_exporter": "python",
   "pygments_lexer": "ipython3",
   "version": "3.9.4"
  },
  "orig_nbformat": 4
 },
 "nbformat": 4,
 "nbformat_minor": 2
}
